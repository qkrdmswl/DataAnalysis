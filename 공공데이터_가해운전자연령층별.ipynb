{
 "cells": [
  {
   "cell_type": "code",
   "execution_count": 3,
   "metadata": {},
   "outputs": [],
   "source": [
    "import pandas as pd\n",
    "import numpy as np\n",
    "import seaborn as sns\n",
    "import matplotlib.pyplot as plt\n",
    "\n",
    "%matplotlib inline"
   ]
  },
  {
   "cell_type": "code",
   "execution_count": 5,
   "metadata": {},
   "outputs": [],
   "source": [
    "import os\n",
    "\n",
    "\n",
    "plt.rc(\"font\", family=\"Malgun Gothic\")\n",
    "\n",
    "# 마이너스 폰트 깨지는 거\n",
    "plt.rc(\"axes\", unicode_minus = False)"
   ]
  },
  {
   "cell_type": "code",
   "execution_count": 7,
   "metadata": {},
   "outputs": [],
   "source": [
    "# retina 설정해서 글씨 조금 선명하게\n",
    "%config inlineBackend.figure_format = \"retina\""
   ]
  },
  {
   "cell_type": "markdown",
   "metadata": {},
   "source": [
    "## 1. 데이터 불러오기"
   ]
  },
  {
   "cell_type": "code",
   "execution_count": 13,
   "metadata": {},
   "outputs": [
    {
     "data": {
      "text/plain": [
       "(96, 7)"
      ]
     },
     "execution_count": 13,
     "metadata": {},
     "output_type": "execute_result"
    }
   ],
   "source": [
    "df = pd.read_csv(\"도로교통공단_가해운전자 연령층별 월별 교통사고 통계_20191231.csv\", encoding=\"cp949\")\n",
    "df.shape"
   ]
  },
  {
   "cell_type": "code",
   "execution_count": 15,
   "metadata": {},
   "outputs": [
    {
     "name": "stdout",
     "output_type": "stream",
     "text": [
      "<class 'pandas.core.frame.DataFrame'>\n",
      "RangeIndex: 96 entries, 0 to 95\n",
      "Data columns (total 7 columns):\n",
      " #   Column  Non-Null Count  Dtype \n",
      "---  ------  --------------  ----- \n",
      " 0   가해자연령층  96 non-null     object\n",
      " 1   월       96 non-null     int64 \n",
      " 2   사고건수    96 non-null     int64 \n",
      " 3   사망자수    96 non-null     int64 \n",
      " 4   중상자수    96 non-null     int64 \n",
      " 5   경상자수    96 non-null     int64 \n",
      " 6   부상신고자수  96 non-null     int64 \n",
      "dtypes: int64(6), object(1)\n",
      "memory usage: 5.4+ KB\n"
     ]
    }
   ],
   "source": [
    "df.info()"
   ]
  },
  {
   "cell_type": "code",
   "execution_count": 17,
   "metadata": {},
   "outputs": [
    {
     "data": {
      "text/plain": [
       "Index(['가해자연령층', '월', '사고건수', '사망자수', '중상자수', '경상자수', '부상신고자수'], dtype='object')"
      ]
     },
     "execution_count": 17,
     "metadata": {},
     "output_type": "execute_result"
    }
   ],
   "source": [
    "df.columns"
   ]
  },
  {
   "cell_type": "code",
   "execution_count": 19,
   "metadata": {},
   "outputs": [
    {
     "data": {
      "text/plain": [
       "가해자연령층    0\n",
       "월         0\n",
       "사고건수      0\n",
       "사망자수      0\n",
       "중상자수      0\n",
       "경상자수      0\n",
       "부상신고자수    0\n",
       "dtype: int64"
      ]
     },
     "execution_count": 19,
     "metadata": {},
     "output_type": "execute_result"
    }
   ],
   "source": [
    "df.isnull().sum()"
   ]
  },
  {
   "cell_type": "markdown",
   "metadata": {},
   "source": [
    "## 2. 데이터 시각화"
   ]
  },
  {
   "cell_type": "code",
   "execution_count": 22,
   "metadata": {},
   "outputs": [
    {
     "data": {
      "text/html": [
       "<div>\n",
       "<style scoped>\n",
       "    .dataframe tbody tr th:only-of-type {\n",
       "        vertical-align: middle;\n",
       "    }\n",
       "\n",
       "    .dataframe tbody tr th {\n",
       "        vertical-align: top;\n",
       "    }\n",
       "\n",
       "    .dataframe thead th {\n",
       "        text-align: right;\n",
       "    }\n",
       "</style>\n",
       "<table border=\"1\" class=\"dataframe\">\n",
       "  <thead>\n",
       "    <tr style=\"text-align: right;\">\n",
       "      <th></th>\n",
       "      <th>가해자연령층</th>\n",
       "      <th>월</th>\n",
       "      <th>사고건수</th>\n",
       "      <th>사망자수</th>\n",
       "      <th>중상자수</th>\n",
       "      <th>경상자수</th>\n",
       "      <th>부상신고자수</th>\n",
       "    </tr>\n",
       "  </thead>\n",
       "  <tbody>\n",
       "    <tr>\n",
       "      <th>0</th>\n",
       "      <td>20세이하</td>\n",
       "      <td>1</td>\n",
       "      <td>423</td>\n",
       "      <td>10</td>\n",
       "      <td>134</td>\n",
       "      <td>371</td>\n",
       "      <td>88</td>\n",
       "    </tr>\n",
       "    <tr>\n",
       "      <th>1</th>\n",
       "      <td>20세이하</td>\n",
       "      <td>2</td>\n",
       "      <td>405</td>\n",
       "      <td>6</td>\n",
       "      <td>128</td>\n",
       "      <td>397</td>\n",
       "      <td>81</td>\n",
       "    </tr>\n",
       "    <tr>\n",
       "      <th>2</th>\n",
       "      <td>20세이하</td>\n",
       "      <td>3</td>\n",
       "      <td>569</td>\n",
       "      <td>13</td>\n",
       "      <td>197</td>\n",
       "      <td>535</td>\n",
       "      <td>97</td>\n",
       "    </tr>\n",
       "    <tr>\n",
       "      <th>3</th>\n",
       "      <td>20세이하</td>\n",
       "      <td>4</td>\n",
       "      <td>595</td>\n",
       "      <td>11</td>\n",
       "      <td>175</td>\n",
       "      <td>578</td>\n",
       "      <td>117</td>\n",
       "    </tr>\n",
       "    <tr>\n",
       "      <th>4</th>\n",
       "      <td>20세이하</td>\n",
       "      <td>5</td>\n",
       "      <td>714</td>\n",
       "      <td>9</td>\n",
       "      <td>210</td>\n",
       "      <td>661</td>\n",
       "      <td>142</td>\n",
       "    </tr>\n",
       "    <tr>\n",
       "      <th>...</th>\n",
       "      <td>...</td>\n",
       "      <td>...</td>\n",
       "      <td>...</td>\n",
       "      <td>...</td>\n",
       "      <td>...</td>\n",
       "      <td>...</td>\n",
       "      <td>...</td>\n",
       "    </tr>\n",
       "    <tr>\n",
       "      <th>91</th>\n",
       "      <td>불명</td>\n",
       "      <td>8</td>\n",
       "      <td>318</td>\n",
       "      <td>0</td>\n",
       "      <td>44</td>\n",
       "      <td>234</td>\n",
       "      <td>91</td>\n",
       "    </tr>\n",
       "    <tr>\n",
       "      <th>92</th>\n",
       "      <td>불명</td>\n",
       "      <td>9</td>\n",
       "      <td>376</td>\n",
       "      <td>0</td>\n",
       "      <td>50</td>\n",
       "      <td>237</td>\n",
       "      <td>125</td>\n",
       "    </tr>\n",
       "    <tr>\n",
       "      <th>93</th>\n",
       "      <td>불명</td>\n",
       "      <td>10</td>\n",
       "      <td>391</td>\n",
       "      <td>0</td>\n",
       "      <td>65</td>\n",
       "      <td>277</td>\n",
       "      <td>90</td>\n",
       "    </tr>\n",
       "    <tr>\n",
       "      <th>94</th>\n",
       "      <td>불명</td>\n",
       "      <td>11</td>\n",
       "      <td>432</td>\n",
       "      <td>0</td>\n",
       "      <td>53</td>\n",
       "      <td>331</td>\n",
       "      <td>99</td>\n",
       "    </tr>\n",
       "    <tr>\n",
       "      <th>95</th>\n",
       "      <td>불명</td>\n",
       "      <td>12</td>\n",
       "      <td>382</td>\n",
       "      <td>0</td>\n",
       "      <td>54</td>\n",
       "      <td>271</td>\n",
       "      <td>99</td>\n",
       "    </tr>\n",
       "  </tbody>\n",
       "</table>\n",
       "<p>96 rows × 7 columns</p>\n",
       "</div>"
      ],
      "text/plain": [
       "   가해자연령층   월  사고건수  사망자수  중상자수  경상자수  부상신고자수\n",
       "0   20세이하   1   423    10   134   371      88\n",
       "1   20세이하   2   405     6   128   397      81\n",
       "2   20세이하   3   569    13   197   535      97\n",
       "3   20세이하   4   595    11   175   578     117\n",
       "4   20세이하   5   714     9   210   661     142\n",
       "..    ...  ..   ...   ...   ...   ...     ...\n",
       "91     불명   8   318     0    44   234      91\n",
       "92     불명   9   376     0    50   237     125\n",
       "93     불명  10   391     0    65   277      90\n",
       "94     불명  11   432     0    53   331      99\n",
       "95     불명  12   382     0    54   271      99\n",
       "\n",
       "[96 rows x 7 columns]"
      ]
     },
     "execution_count": 22,
     "metadata": {},
     "output_type": "execute_result"
    }
   ],
   "source": [
    "df"
   ]
  },
  {
   "cell_type": "code",
   "execution_count": 24,
   "metadata": {},
   "outputs": [
    {
     "data": {
      "text/html": [
       "<div>\n",
       "<style scoped>\n",
       "    .dataframe tbody tr th:only-of-type {\n",
       "        vertical-align: middle;\n",
       "    }\n",
       "\n",
       "    .dataframe tbody tr th {\n",
       "        vertical-align: top;\n",
       "    }\n",
       "\n",
       "    .dataframe thead th {\n",
       "        text-align: right;\n",
       "    }\n",
       "</style>\n",
       "<table border=\"1\" class=\"dataframe\">\n",
       "  <thead>\n",
       "    <tr style=\"text-align: right;\">\n",
       "      <th></th>\n",
       "      <th>사고건수</th>\n",
       "      <th>사망자수</th>\n",
       "      <th>중상자수</th>\n",
       "      <th>경상자수</th>\n",
       "      <th>부상신고자수</th>\n",
       "    </tr>\n",
       "    <tr>\n",
       "      <th>월</th>\n",
       "      <th></th>\n",
       "      <th></th>\n",
       "      <th></th>\n",
       "      <th></th>\n",
       "      <th></th>\n",
       "    </tr>\n",
       "  </thead>\n",
       "  <tbody>\n",
       "    <tr>\n",
       "      <th>1</th>\n",
       "      <td>2069.000</td>\n",
       "      <td>37.000</td>\n",
       "      <td>685.875</td>\n",
       "      <td>2156.125</td>\n",
       "      <td>191.625</td>\n",
       "    </tr>\n",
       "    <tr>\n",
       "      <th>2</th>\n",
       "      <td>1844.000</td>\n",
       "      <td>25.375</td>\n",
       "      <td>596.500</td>\n",
       "      <td>2051.250</td>\n",
       "      <td>178.750</td>\n",
       "    </tr>\n",
       "    <tr>\n",
       "      <th>3</th>\n",
       "      <td>2266.625</td>\n",
       "      <td>31.500</td>\n",
       "      <td>725.750</td>\n",
       "      <td>2423.750</td>\n",
       "      <td>214.000</td>\n",
       "    </tr>\n",
       "    <tr>\n",
       "      <th>4</th>\n",
       "      <td>2388.000</td>\n",
       "      <td>35.750</td>\n",
       "      <td>778.000</td>\n",
       "      <td>2538.125</td>\n",
       "      <td>238.625</td>\n",
       "    </tr>\n",
       "    <tr>\n",
       "      <th>5</th>\n",
       "      <td>2597.375</td>\n",
       "      <td>38.125</td>\n",
       "      <td>821.625</td>\n",
       "      <td>2791.500</td>\n",
       "      <td>271.500</td>\n",
       "    </tr>\n",
       "    <tr>\n",
       "      <th>6</th>\n",
       "      <td>2371.000</td>\n",
       "      <td>34.875</td>\n",
       "      <td>757.125</td>\n",
       "      <td>2517.375</td>\n",
       "      <td>264.875</td>\n",
       "    </tr>\n",
       "    <tr>\n",
       "      <th>7</th>\n",
       "      <td>2404.250</td>\n",
       "      <td>30.125</td>\n",
       "      <td>735.625</td>\n",
       "      <td>2549.000</td>\n",
       "      <td>259.500</td>\n",
       "    </tr>\n",
       "    <tr>\n",
       "      <th>8</th>\n",
       "      <td>2499.000</td>\n",
       "      <td>31.625</td>\n",
       "      <td>772.750</td>\n",
       "      <td>2744.125</td>\n",
       "      <td>277.875</td>\n",
       "    </tr>\n",
       "    <tr>\n",
       "      <th>9</th>\n",
       "      <td>2416.375</td>\n",
       "      <td>35.875</td>\n",
       "      <td>739.625</td>\n",
       "      <td>2588.875</td>\n",
       "      <td>264.750</td>\n",
       "    </tr>\n",
       "    <tr>\n",
       "      <th>10</th>\n",
       "      <td>2711.250</td>\n",
       "      <td>42.125</td>\n",
       "      <td>869.125</td>\n",
       "      <td>2848.750</td>\n",
       "      <td>288.375</td>\n",
       "    </tr>\n",
       "    <tr>\n",
       "      <th>11</th>\n",
       "      <td>2689.625</td>\n",
       "      <td>37.125</td>\n",
       "      <td>820.875</td>\n",
       "      <td>2860.875</td>\n",
       "      <td>271.125</td>\n",
       "    </tr>\n",
       "    <tr>\n",
       "      <th>12</th>\n",
       "      <td>2443.500</td>\n",
       "      <td>39.125</td>\n",
       "      <td>735.375</td>\n",
       "      <td>2620.750</td>\n",
       "      <td>264.250</td>\n",
       "    </tr>\n",
       "  </tbody>\n",
       "</table>\n",
       "</div>"
      ],
      "text/plain": [
       "        사고건수    사망자수     중상자수      경상자수   부상신고자수\n",
       "월                                               \n",
       "1   2069.000  37.000  685.875  2156.125  191.625\n",
       "2   1844.000  25.375  596.500  2051.250  178.750\n",
       "3   2266.625  31.500  725.750  2423.750  214.000\n",
       "4   2388.000  35.750  778.000  2538.125  238.625\n",
       "5   2597.375  38.125  821.625  2791.500  271.500\n",
       "6   2371.000  34.875  757.125  2517.375  264.875\n",
       "7   2404.250  30.125  735.625  2549.000  259.500\n",
       "8   2499.000  31.625  772.750  2744.125  277.875\n",
       "9   2416.375  35.875  739.625  2588.875  264.750\n",
       "10  2711.250  42.125  869.125  2848.750  288.375\n",
       "11  2689.625  37.125  820.875  2860.875  271.125\n",
       "12  2443.500  39.125  735.375  2620.750  264.250"
      ]
     },
     "execution_count": 24,
     "metadata": {},
     "output_type": "execute_result"
    }
   ],
   "source": [
    "df.groupby([\"월\"]).mean()"
   ]
  },
  {
   "cell_type": "code",
   "execution_count": 36,
   "metadata": {},
   "outputs": [
    {
     "data": {
      "text/plain": [
       "<matplotlib.axes._subplots.AxesSubplot at 0x1dcdfa15708>"
      ]
     },
     "execution_count": 36,
     "metadata": {},
     "output_type": "execute_result"
    },
    {
     "data": {
      "image/png": "[encoded data removed]",
      "text/plain": [
       "<Figure size 504x504 with 1 Axes>"
      ]
     },
     "metadata": {
      "needs_background": "light"
     },
     "output_type": "display_data"
    }
   ],
   "source": [
    "plt.figure(figsize=(7,7))\n",
    "sns.lineplot(data=df, x=\"가해자연령층\", y=\"사고건수\", ci=95)"
   ]
  },
  {
   "cell_type": "code",
   "execution_count": 37,
   "metadata": {},
   "outputs": [
    {
     "data": {
      "text/plain": [
       "<matplotlib.axes._subplots.AxesSubplot at 0x1dcdfe69748>"
      ]
     },
     "execution_count": 37,
     "metadata": {},
     "output_type": "execute_result"
    },
    {
     "data": {
      "image/png": "[encoded data removed]",
      "text/plain": [
       "<Figure size 504x504 with 1 Axes>"
      ]
     },
     "metadata": {
      "needs_background": "light"
     },
     "output_type": "display_data"
    }
   ],
   "source": [
    "plt.figure(figsize=(7,7))\n",
    "sns.pointplot(data=df, x=\"가해자연령층\", y=\"사고건수\", ci=None)"
   ]
  },
  {
   "cell_type": "code",
   "execution_count": 39,
   "metadata": {},
   "outputs": [
    {
     "data": {
      "text/plain": [
       "<seaborn.axisgrid.FacetGrid at 0x1dcdff41b48>"
      ]
     },
     "execution_count": 39,
     "metadata": {},
     "output_type": "execute_result"
    },
    {
     "data": {
      "text/plain": [
       "<Figure size 1224x576 with 0 Axes>"
      ]
     },
     "metadata": {},
     "output_type": "display_data"
    },
    {
     "data": {
      "image/png": "[encoded data removed]",
      "text/plain": [
       "<Figure size 360x360 with 1 Axes>"
      ]
     },
     "metadata": {
      "needs_background": "light"
     },
     "output_type": "display_data"
    }
   ],
   "source": [
    "plt.figure(figsize=(17,8))\n",
    "sns.lmplot(\n",
    "    data=df.sample(50, random_state=1), \n",
    "    x=\"월\", \n",
    "    y=\"사고건수\"\n",
    ")"
   ]
  },
  {
   "cell_type": "code",
   "execution_count": 40,
   "metadata": {},
   "outputs": [],
   "source": [
    "cor_columns = ['가해자연령층', '월', '사고건수', '사망자수', '중상자수', '경상자수', '부상신고자수']"
   ]
  },
  {
   "cell_type": "code",
   "execution_count": 42,
   "metadata": {},
   "outputs": [
    {
     "data": {
      "text/html": [
       "<div>\n",
       "<style scoped>\n",
       "    .dataframe tbody tr th:only-of-type {\n",
       "        vertical-align: middle;\n",
       "    }\n",
       "\n",
       "    .dataframe tbody tr th {\n",
       "        vertical-align: top;\n",
       "    }\n",
       "\n",
       "    .dataframe thead th {\n",
       "        text-align: right;\n",
       "    }\n",
       "</style>\n",
       "<table border=\"1\" class=\"dataframe\">\n",
       "  <thead>\n",
       "    <tr style=\"text-align: right;\">\n",
       "      <th></th>\n",
       "      <th>월</th>\n",
       "      <th>사고건수</th>\n",
       "      <th>사망자수</th>\n",
       "      <th>중상자수</th>\n",
       "      <th>경상자수</th>\n",
       "      <th>부상신고자수</th>\n",
       "    </tr>\n",
       "  </thead>\n",
       "  <tbody>\n",
       "    <tr>\n",
       "      <th>월</th>\n",
       "      <td>1.000000</td>\n",
       "      <td>0.126915</td>\n",
       "      <td>0.091837</td>\n",
       "      <td>0.085314</td>\n",
       "      <td>0.120883</td>\n",
       "      <td>0.229488</td>\n",
       "    </tr>\n",
       "    <tr>\n",
       "      <th>사고건수</th>\n",
       "      <td>0.126915</td>\n",
       "      <td>1.000000</td>\n",
       "      <td>0.880318</td>\n",
       "      <td>0.995042</td>\n",
       "      <td>0.997659</td>\n",
       "      <td>0.957674</td>\n",
       "    </tr>\n",
       "    <tr>\n",
       "      <th>사망자수</th>\n",
       "      <td>0.091837</td>\n",
       "      <td>0.880318</td>\n",
       "      <td>1.000000</td>\n",
       "      <td>0.900504</td>\n",
       "      <td>0.860032</td>\n",
       "      <td>0.818521</td>\n",
       "    </tr>\n",
       "    <tr>\n",
       "      <th>중상자수</th>\n",
       "      <td>0.085314</td>\n",
       "      <td>0.995042</td>\n",
       "      <td>0.900504</td>\n",
       "      <td>1.000000</td>\n",
       "      <td>0.990921</td>\n",
       "      <td>0.942584</td>\n",
       "    </tr>\n",
       "    <tr>\n",
       "      <th>경상자수</th>\n",
       "      <td>0.120883</td>\n",
       "      <td>0.997659</td>\n",
       "      <td>0.860032</td>\n",
       "      <td>0.990921</td>\n",
       "      <td>1.000000</td>\n",
       "      <td>0.957206</td>\n",
       "    </tr>\n",
       "    <tr>\n",
       "      <th>부상신고자수</th>\n",
       "      <td>0.229488</td>\n",
       "      <td>0.957674</td>\n",
       "      <td>0.818521</td>\n",
       "      <td>0.942584</td>\n",
       "      <td>0.957206</td>\n",
       "      <td>1.000000</td>\n",
       "    </tr>\n",
       "  </tbody>\n",
       "</table>\n",
       "</div>"
      ],
      "text/plain": [
       "               월      사고건수      사망자수      중상자수      경상자수    부상신고자수\n",
       "월       1.000000  0.126915  0.091837  0.085314  0.120883  0.229488\n",
       "사고건수    0.126915  1.000000  0.880318  0.995042  0.997659  0.957674\n",
       "사망자수    0.091837  0.880318  1.000000  0.900504  0.860032  0.818521\n",
       "중상자수    0.085314  0.995042  0.900504  1.000000  0.990921  0.942584\n",
       "경상자수    0.120883  0.997659  0.860032  0.990921  1.000000  0.957206\n",
       "부상신고자수  0.229488  0.957674  0.818521  0.942584  0.957206  1.000000"
      ]
     },
     "execution_count": 42,
     "metadata": {},
     "output_type": "execute_result"
    }
   ],
   "source": [
    "df_corr = df[cor_columns].corr()\n",
    "df_corr"
   ]
  }
 ],
 "metadata": {
  "kernelspec": {
   "display_name": "Python 3",
   "language": "python",
   "name": "python3"
  },
  "language_info": {
   "codemirror_mode": {
    "name": "ipython",
    "version": 3
   },
   "file_extension": ".py",
   "mimetype": "text/x-python",
   "name": "python",
   "nbconvert_exporter": "python",
   "pygments_lexer": "ipython3",
   "version": "3.7.6"
  }
 },
 "nbformat": 4,
 "nbformat_minor": 4
}
